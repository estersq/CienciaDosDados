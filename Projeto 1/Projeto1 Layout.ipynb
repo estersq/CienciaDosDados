{
 "cells": [
  {
   "cell_type": "markdown",
   "metadata": {},
   "source": [
    "___\n",
    "# Ciência dos Dados - PROJETO 1"
   ]
  },
  {
   "cell_type": "markdown",
   "metadata": {},
   "source": [
    "# ESTER DOS SANTOS QUINTINO\n",
    "___"
   ]
  },
  {
   "cell_type": "markdown",
   "metadata": {},
   "source": [
    "## Qual a relação do acesso à internet banda larga no domicílio com a renda per capita nas áreas rurais e urbanas nas regiões brasileiras?\n",
    "\n",
    "\n"
   ]
  },
  {
   "cell_type": "markdown",
   "metadata": {},
   "source": [
    "___\n",
    "## Objetivo\n",
    "\n",
    "Meu objetivo pe saber qua\n",
    "- Quantas pessoas possuem acesso a internet domiciliar?\n",
    "- Quantas pessoas tem acesso à internet banda larga?\n",
    "- Quantas pessoas possuem internet banda larga em diferente regiões?\n",
    "\n",
    "Capriche no português!! \n",
    "Se quiser pode utilizar pesquisas semelhantes publicadas em sites confiáveis!!\n"
   ]
  },
  {
   "cell_type": "markdown",
   "metadata": {},
   "source": [
    "___\n",
    "## Análise e Resultados"
   ]
  },
  {
   "cell_type": "code",
   "execution_count": 3,
   "metadata": {
    "collapsed": true
   },
   "outputs": [],
   "source": [
    "%matplotlib inline\n",
    "import pandas as pd\n",
    "import matplotlib.pyplot as plt\n",
    "import numpy as np\n",
    "import os"
   ]
  },
  {
   "cell_type": "code",
   "execution_count": 4,
   "metadata": {},
   "outputs": [
    {
     "name": "stdout",
     "output_type": "stream",
     "text": [
      "Esperamos trabalhar no diretório\n",
      "C:\\Users\\Ester Quintino\\Documents\\GitHub\\CienciaDosDados\n"
     ]
    }
   ],
   "source": [
    "print('Esperamos trabalhar no diretório')\n",
    "print(os.getcwd())"
   ]
  },
  {
   "cell_type": "code",
   "execution_count": 5,
   "metadata": {
    "collapsed": true
   },
   "outputs": [],
   "source": [
    "#Se usar o arquivo descompactado\n",
    "#pd.read_csv('DOM2015.csv',sep=',')\n",
    "\n",
    "#Se usar o arquivo compactado como está no dropbox púbico\n",
    "Documento = pd.read_csv('DOM2015csv.zip', compression='zip', header=0, sep=',', quotechar='\"')\n"
   ]
  },
  {
   "cell_type": "code",
   "execution_count": 23,
   "metadata": {
    "collapsed": true
   },
   "outputs": [],
   "source": [
    "#dados_não_nulos=dados_não_nulos.rename(columns={\"V02322\":\"Tem acesso à internet no próprio domicílio\",\"V4105\":\"Código de situação censitária\",\"V4621\":\"Renda mensal domiciliar percapita\",\"V02426\":\"O acesso à internet é feito por banda larga\",\"UF\":\"Unidade da Federação\"})\n",
    "#Caso o sua coluna contenha sim, não, Não sabe\n",
    "#dados_não_nulos.V0205= Documentoastype(\"category\")\n",
    "#dados_não_nulos.V0205.cat.categories = {[\"Sim\",\"Não\",\"Não sabe\"]}\n",
    "#dados_não_nulos.head()"
   ]
  },
  {
   "cell_type": "code",
   "execution_count": 8,
   "metadata": {},
   "outputs": [
    {
     "data": {
      "text/html": [
       "<div>\n",
       "<style>\n",
       "    .dataframe thead tr:only-child th {\n",
       "        text-align: right;\n",
       "    }\n",
       "\n",
       "    .dataframe thead th {\n",
       "        text-align: left;\n",
       "    }\n",
       "\n",
       "    .dataframe tbody tr th {\n",
       "        vertical-align: top;\n",
       "    }\n",
       "</style>\n",
       "<table border=\"1\" class=\"dataframe\">\n",
       "  <thead>\n",
       "    <tr style=\"text-align: right;\">\n",
       "      <th></th>\n",
       "      <th>V02322</th>\n",
       "      <th>V4105</th>\n",
       "      <th>V4621</th>\n",
       "      <th>V02426</th>\n",
       "      <th>UF</th>\n",
       "    </tr>\n",
       "  </thead>\n",
       "  <tbody>\n",
       "    <tr>\n",
       "      <th>0</th>\n",
       "      <td>4.0</td>\n",
       "      <td>1</td>\n",
       "      <td>800.0</td>\n",
       "      <td>NaN</td>\n",
       "      <td>11</td>\n",
       "    </tr>\n",
       "    <tr>\n",
       "      <th>1</th>\n",
       "      <td>NaN</td>\n",
       "      <td>1</td>\n",
       "      <td>NaN</td>\n",
       "      <td>NaN</td>\n",
       "      <td>11</td>\n",
       "    </tr>\n",
       "    <tr>\n",
       "      <th>2</th>\n",
       "      <td>2.0</td>\n",
       "      <td>1</td>\n",
       "      <td>1150.0</td>\n",
       "      <td>2.0</td>\n",
       "      <td>11</td>\n",
       "    </tr>\n",
       "    <tr>\n",
       "      <th>3</th>\n",
       "      <td>2.0</td>\n",
       "      <td>1</td>\n",
       "      <td>793.0</td>\n",
       "      <td>2.0</td>\n",
       "      <td>11</td>\n",
       "    </tr>\n",
       "    <tr>\n",
       "      <th>4</th>\n",
       "      <td>4.0</td>\n",
       "      <td>1</td>\n",
       "      <td>2900.0</td>\n",
       "      <td>NaN</td>\n",
       "      <td>11</td>\n",
       "    </tr>\n",
       "  </tbody>\n",
       "</table>\n",
       "</div>"
      ],
      "text/plain": [
       "   V02322  V4105   V4621  V02426  UF\n",
       "0     4.0      1   800.0     NaN  11\n",
       "1     NaN      1     NaN     NaN  11\n",
       "2     2.0      1  1150.0     2.0  11\n",
       "3     2.0      1   793.0     2.0  11\n",
       "4     4.0      1  2900.0     NaN  11"
      ]
     },
     "execution_count": 8,
     "metadata": {},
     "output_type": "execute_result"
    }
   ],
   "source": [
    "#Código do professor\n",
    "dados=pd.read_csv('DOM2015csv.zip', compression='zip', header=0, sep=',', quotechar='\"')\n",
    "dados_resumidos=dados.loc[:,[\"V02322\",\"V4105\",\"V4621\",\"V02426\",\"UF\"]]#.dropna(axis=0)\n",
    "dados_resumidos.to_csv(\"resumo.csv\")\n",
    "dados_resumidos.head()\n",
    "\n"
   ]
  },
  {
   "cell_type": "code",
   "execution_count": 9,
   "metadata": {
    "collapsed": true
   },
   "outputs": [],
   "source": [
    "#dados_não_nulos.V4621.value_counts()"
   ]
  },
  {
   "cell_type": "code",
   "execution_count": 10,
   "metadata": {},
   "outputs": [
    {
     "data": {
      "text/html": [
       "<div>\n",
       "<style>\n",
       "    .dataframe thead tr:only-child th {\n",
       "        text-align: right;\n",
       "    }\n",
       "\n",
       "    .dataframe thead th {\n",
       "        text-align: left;\n",
       "    }\n",
       "\n",
       "    .dataframe tbody tr th {\n",
       "        vertical-align: top;\n",
       "    }\n",
       "</style>\n",
       "<table border=\"1\" class=\"dataframe\">\n",
       "  <thead>\n",
       "    <tr style=\"text-align: right;\">\n",
       "      <th></th>\n",
       "      <th>V02322</th>\n",
       "      <th>V4105</th>\n",
       "      <th>V4621</th>\n",
       "      <th>V02426</th>\n",
       "      <th>UF</th>\n",
       "    </tr>\n",
       "  </thead>\n",
       "  <tbody>\n",
       "    <tr>\n",
       "      <th>0</th>\n",
       "      <td>4.0</td>\n",
       "      <td>1</td>\n",
       "      <td>800.0</td>\n",
       "      <td>NaN</td>\n",
       "      <td>11</td>\n",
       "    </tr>\n",
       "    <tr>\n",
       "      <th>1</th>\n",
       "      <td>NaN</td>\n",
       "      <td>1</td>\n",
       "      <td>NaN</td>\n",
       "      <td>NaN</td>\n",
       "      <td>11</td>\n",
       "    </tr>\n",
       "    <tr>\n",
       "      <th>2</th>\n",
       "      <td>2.0</td>\n",
       "      <td>1</td>\n",
       "      <td>1150.0</td>\n",
       "      <td>2.0</td>\n",
       "      <td>11</td>\n",
       "    </tr>\n",
       "    <tr>\n",
       "      <th>3</th>\n",
       "      <td>2.0</td>\n",
       "      <td>1</td>\n",
       "      <td>793.0</td>\n",
       "      <td>2.0</td>\n",
       "      <td>11</td>\n",
       "    </tr>\n",
       "    <tr>\n",
       "      <th>4</th>\n",
       "      <td>4.0</td>\n",
       "      <td>1</td>\n",
       "      <td>2900.0</td>\n",
       "      <td>NaN</td>\n",
       "      <td>11</td>\n",
       "    </tr>\n",
       "  </tbody>\n",
       "</table>\n",
       "</div>"
      ],
      "text/plain": [
       "   V02322  V4105   V4621  V02426  UF\n",
       "0     4.0      1   800.0     NaN  11\n",
       "1     NaN      1     NaN     NaN  11\n",
       "2     2.0      1  1150.0     2.0  11\n",
       "3     2.0      1   793.0     2.0  11\n",
       "4     4.0      1  2900.0     NaN  11"
      ]
     },
     "execution_count": 10,
     "metadata": {},
     "output_type": "execute_result"
    }
   ],
   "source": [
    "#Código do Professor\n",
    "dados_não_nulos = dados_resumidos#[pd.notnull(Documento.V02322)&pd.notnull(Documento.V4105)&pd.notnull(Documento.V4621)&pd.notnull(Documento.V02426)&pd.notnull(Documento.UF)]\n",
    "dados_não_nulos.head()"
   ]
  },
  {
   "cell_type": "code",
   "execution_count": 11,
   "metadata": {},
   "outputs": [
    {
     "name": "stderr",
     "output_type": "stream",
     "text": [
      "C:\\Anaconda3\\lib\\site-packages\\pandas\\core\\generic.py:2999: SettingWithCopyWarning: \n",
      "A value is trying to be set on a copy of a slice from a DataFrame.\n",
      "Try using .loc[row_indexer,col_indexer] = value instead\n",
      "\n",
      "See the caveats in the documentation: http://pandas.pydata.org/pandas-docs/stable/indexing.html#indexing-view-versus-copy\n",
      "  self[name] = value\n"
     ]
    }
   ],
   "source": [
    "#Mudanças categorias\n",
    "dados_não_nulos.V02322=dados.V02322.astype('category')\n",
    "dados_não_nulos.V02322.cat.categories=([\"Sim\",\"Não\"])\n",
    "dados_não_nulos.V02426=dados.V02322.astype('category')\n",
    "dados_não_nulos.V02426.cat.categories=([\"Sim\",\"Não\"])\n",
    "\n",
    "#dados_não_nulos.V4105=dados.V4105.astype('category')\n",
    "#dados_não_nulos.V4105.cat.categories=([\"URBANA-Cidade ou vila,área urbanizada\",\"URBANA-Cidade ou vila, área não urbanizada\",\"URBANA-Área urbana isolada\",\"RURAL-Aglomerado rural de extensão urbana\",\"RURAL-Aglomerado rural,isolado,povoado\",\"RURAL-Aglomerado rual,isolado,núcleo\",\"RURAL-Aglomerado rural,isolado,outros aglomerados\",\"RURAL-Zona rural exclusive aglomerado rural\"])\n",
    "#dados_não_nulos.loc[(dados_não_nulos.V4105==\"URBANA-Cidade ou vila,área urbanizada\")|(dados_(dados_não_nulos.V4105==\"URBANA-Cidade ou vila, área não urbanizada\")|(dados_não_nulos.V4105==\"URBANA-Área urbana isolada\")|(dados_não_nulos.V4105==\"RURAL-Aglomerado rural de extensão urbana\")|(dados_não_nulos.V4105==\"RURAL-Aglomerado rural,isolado,povoado\")|(dados_não_nulos.V4105==\"RURAL-Aglomerado rural,isolado,núcleo\")|(dados_não_nulos.V4105==\"RURAL-Aglomerado rural,isolado,outros aglomerados\")|(dados_não_nulos.V4105==\"RURAL-Zona rural exclusive aglomerado rural\")\n",
    "\n",
    "dados_não_nulos.UF=dados.UF.astype('category')\n",
    "dados_não_nulos.UF.cat.categories=([\"Rondônia\",\"Acre\",\"Amazonas\",\"Roraima\",\"Pará\",\"Amapá\",\"Tocantins\",\"Maranhão\",\"Piauí\",\"Ceará\",\"Rio Grande do Norte\",\"Paraíba\",\"Pernambuco\",\"Alagoas\",\"Sergipe\",\"Bahia\",\"Minas Gerais\",\"Espírito Santo\",\"Rio de Janeiro\",\"São Paulo\",\"Paraná\",\"Santa Catarina\",\"Rio Grande do Sul\",\"Mato Grosso do Sul\",\"Mato Grosso\",\"Goías\",\"Distrito Federal\"])\n",
    "dados_não_nulos.loc[(dados_não_nulos.UF==\"Rondônia\")|(dados_não_nulos.UF==\"Acre\")|(dados_não_nulos.UF==\"Amazonas\")|(dados_não_nulos.UF==\"Roraima\")|(dados_não_nulos.UF==\"Pará\")|(dados_não_nulos.UF==\"Amapá\")|(dados_não_nulos.UF==\"Tocantins\")|(dados_não_nulos.UF==\"Maranhão\")|(dados_não_nulos.UF==\"Piauí\")|(dados_não_nulos.UF==\"Ceará\")|(dados_não_nulos.UF==\"Rio Grande do Norte\")|(dados_não_nulos.UF==\"Paraíba\")|(dados_não_nulos.UF==\"Pernambuco\")|(dados_não_nulos.UF==\"Alagoas\")|(dados_não_nulos.UF==\"Sergipe\")|(dados_não_nulos.UF==\"Bahia\")|(dados_não_nulos.UF==\"Minas Gerais\")|(dados_não_nulos.UF==\"Espírito Santo\")|(dados_não_nulos.UF==\"Rio de Janeiro\")|(dados_não_nulos.UF==\"São Paulo\")|(dados_não_nulos.UF==\"Paraná\")|(dados_não_nulos.UF==\"Santa Catarina\")|(dados_não_nulos.UF==\"Rio Grande do Sul\")|(dados_não_nulos.UF==\"Mato Grosso do Sul\")|(dados_não_nulos.UF==\"Mato Grosso\")|(dados_não_nulos.UF==\"Goiás\")|(dados_não_nulos.UF==\"Distrito Federal\"),\"Regiões\"]=\"Brasil\"\n",
    "dados_não_nulos=dados_não_nulos.dropna(axis=0)\n",
    "dados_não_nulos\n",
    "\n",
    "dados_não_nulos.V4105=dados.V4105.astype('category')\n",
    "dados_não_nulos.V4105.cat.categories = ([\"URBANA - Cidade ou vila, área urbanizada\",\"URBANA - Cidade ou vila, área não urbanizada\",\"URBANA - Área urbana isolada\",\"RURAL - Aglomerado rural de extensão urbana \",\"RURAL - Aglomerado rural, isolado, povoado\",\"RURAL - Aglomerado rural, isolado, núcleo\",\"RURAL- Aglomerado rural, isolado, outros aglomerados\", \"RURAL - Zona rural exclusive aglomerado rural\"])\n",
    "\n",
    "#dados_não_nulos.V4105.value_counts()\n"
   ]
  },
  {
   "cell_type": "code",
   "execution_count": 12,
   "metadata": {
    "collapsed": true
   },
   "outputs": [],
   "source": [
    "#dfc = dados_não_nulos.V02426.value_counts()\n",
    "#dfc.plot(kind='bar', color=('blue', 'red'), legend=False)\n",
    "#dfc.head()"
   ]
  },
  {
   "cell_type": "code",
   "execution_count": 13,
   "metadata": {
    "collapsed": true
   },
   "outputs": [],
   "source": [
    "#dfc = dados_não_nulos.UF.value_counts()\n",
    "#dfc.plot(kind='bar', color=('blue', 'red'), legend=False)\n",
    "#dfc.head()"
   ]
  },
  {
   "cell_type": "code",
   "execution_count": 14,
   "metadata": {
    "collapsed": true
   },
   "outputs": [],
   "source": [
    "#dfc = dados_não_nulos.V02322.value_counts()\n",
    "#dfc.plot(kind='bar', color=('blue', 'red'), legend=False)\n",
    "#dfc.head()"
   ]
  },
  {
   "cell_type": "code",
   "execution_count": 15,
   "metadata": {
    "collapsed": true
   },
   "outputs": [],
   "source": [
    "#dados_não_nulos[dados_não_nulos.V4621>40].iloc[:,2:4].head(8)"
   ]
  },
  {
   "cell_type": "code",
   "execution_count": 16,
   "metadata": {},
   "outputs": [
    {
     "name": "stderr",
     "output_type": "stream",
     "text": [
      "C:\\Anaconda3\\lib\\site-packages\\pandas\\core\\indexing.py:337: SettingWithCopyWarning: \n",
      "A value is trying to be set on a copy of a slice from a DataFrame.\n",
      "Try using .loc[row_indexer,col_indexer] = value instead\n",
      "\n",
      "See the caveats in the documentation: http://pandas.pydata.org/pandas-docs/stable/indexing.html#indexing-view-versus-copy\n",
      "  self.obj[key] = _infer_fill_value(value)\n",
      "C:\\Anaconda3\\lib\\site-packages\\pandas\\core\\indexing.py:517: SettingWithCopyWarning: \n",
      "A value is trying to be set on a copy of a slice from a DataFrame.\n",
      "Try using .loc[row_indexer,col_indexer] = value instead\n",
      "\n",
      "See the caveats in the documentation: http://pandas.pydata.org/pandas-docs/stable/indexing.html#indexing-view-versus-copy\n",
      "  self.obj[item] = s\n"
     ]
    },
    {
     "data": {
      "text/html": [
       "<div>\n",
       "<style>\n",
       "    .dataframe thead tr:only-child th {\n",
       "        text-align: right;\n",
       "    }\n",
       "\n",
       "    .dataframe thead th {\n",
       "        text-align: left;\n",
       "    }\n",
       "\n",
       "    .dataframe tbody tr th {\n",
       "        vertical-align: top;\n",
       "    }\n",
       "</style>\n",
       "<table border=\"1\" class=\"dataframe\">\n",
       "  <thead>\n",
       "    <tr style=\"text-align: right;\">\n",
       "      <th></th>\n",
       "      <th>V02322</th>\n",
       "      <th>V4105</th>\n",
       "      <th>V4621</th>\n",
       "      <th>V02426</th>\n",
       "      <th>UF</th>\n",
       "      <th>Regiões</th>\n",
       "      <th>Regiao</th>\n",
       "    </tr>\n",
       "  </thead>\n",
       "  <tbody>\n",
       "    <tr>\n",
       "      <th>0</th>\n",
       "      <td>Não</td>\n",
       "      <td>URBANA - Cidade ou vila, área urbanizada</td>\n",
       "      <td>800.0</td>\n",
       "      <td>Não</td>\n",
       "      <td>Rondônia</td>\n",
       "      <td>Brasil</td>\n",
       "      <td>Norte</td>\n",
       "    </tr>\n",
       "    <tr>\n",
       "      <th>2</th>\n",
       "      <td>Sim</td>\n",
       "      <td>URBANA - Cidade ou vila, área urbanizada</td>\n",
       "      <td>1150.0</td>\n",
       "      <td>Sim</td>\n",
       "      <td>Rondônia</td>\n",
       "      <td>Brasil</td>\n",
       "      <td>Norte</td>\n",
       "    </tr>\n",
       "    <tr>\n",
       "      <th>3</th>\n",
       "      <td>Sim</td>\n",
       "      <td>URBANA - Cidade ou vila, área urbanizada</td>\n",
       "      <td>793.0</td>\n",
       "      <td>Sim</td>\n",
       "      <td>Rondônia</td>\n",
       "      <td>Brasil</td>\n",
       "      <td>Norte</td>\n",
       "    </tr>\n",
       "    <tr>\n",
       "      <th>4</th>\n",
       "      <td>Não</td>\n",
       "      <td>URBANA - Cidade ou vila, área urbanizada</td>\n",
       "      <td>2900.0</td>\n",
       "      <td>Não</td>\n",
       "      <td>Rondônia</td>\n",
       "      <td>Brasil</td>\n",
       "      <td>Norte</td>\n",
       "    </tr>\n",
       "    <tr>\n",
       "      <th>5</th>\n",
       "      <td>Sim</td>\n",
       "      <td>URBANA - Cidade ou vila, área urbanizada</td>\n",
       "      <td>1990.0</td>\n",
       "      <td>Sim</td>\n",
       "      <td>Rondônia</td>\n",
       "      <td>Brasil</td>\n",
       "      <td>Norte</td>\n",
       "    </tr>\n",
       "  </tbody>\n",
       "</table>\n",
       "</div>"
      ],
      "text/plain": [
       "  V02322                                     V4105   V4621 V02426        UF  \\\n",
       "0    Não  URBANA - Cidade ou vila, área urbanizada   800.0    Não  Rondônia   \n",
       "2    Sim  URBANA - Cidade ou vila, área urbanizada  1150.0    Sim  Rondônia   \n",
       "3    Sim  URBANA - Cidade ou vila, área urbanizada   793.0    Sim  Rondônia   \n",
       "4    Não  URBANA - Cidade ou vila, área urbanizada  2900.0    Não  Rondônia   \n",
       "5    Sim  URBANA - Cidade ou vila, área urbanizada  1990.0    Sim  Rondônia   \n",
       "\n",
       "  Regiões Regiao  \n",
       "0  Brasil  Norte  \n",
       "2  Brasil  Norte  \n",
       "3  Brasil  Norte  \n",
       "4  Brasil  Norte  \n",
       "5  Brasil  Norte  "
      ]
     },
     "execution_count": 16,
     "metadata": {},
     "output_type": "execute_result"
    }
   ],
   "source": [
    "dados_não_nulos.loc[(dados_não_nulos.UF=='Rondônia') | (dados_não_nulos.UF=='Acre') | (dados_não_nulos.UF=='Amazonas') | (dados_não_nulos.UF=='Roraima') | (dados_não_nulos.UF=='Pará') | (dados_não_nulos.UF=='Amapá') | (dados_não_nulos.UF=='Tocantins'),'Regiao'] = 'Norte'\n",
    "dados_não_nulos.loc[(dados_não_nulos.UF=='Maranhão') | (dados_não_nulos.UF=='Piaui') | (dados_não_nulos.UF=='Caerá') | (dados_não_nulos.UF=='Rio Grande do Norte') | (dados_não_nulos.UF=='Paraíba') | (dados_não_nulos.UF=='Pernambuco') | (dados_não_nulos.UF=='Alagoas') | (dados_não_nulos.UF=='Sergipe') | (dados_não_nulos.UF=='Bahia'),'Regiao'] = 'Nordeste'\n",
    "dados_não_nulos.loc[(dados_não_nulos.UF=='Minas Gerais') | (dados_não_nulos.UF=='Espirito Santo') | (dados_não_nulos.UF=='Rio de Janeiro') | (dados_não_nulos.UF=='São Paulo'),'Regiao'] = 'Sudeste'\n",
    "dados_não_nulos.loc[(dados_não_nulos.UF=='Paraná') | (dados_não_nulos.UF=='Santa Catarina') | (dados_não_nulos.UF=='Rio Grande do Sul'),'Regiao'] = 'Sul'\n",
    "dados_não_nulos.loc[(dados_não_nulos.UF=='Mato Grosso do Sul') | (dados_não_nulos.UF=='Mato Grosso') | (dados_não_nulos.UF=='Goiás') | (dados_não_nulos.UF=='Distrito Federal'),'Regiao'] = 'Centroeste'\n",
    "dados_não_nulos.head()"
   ]
  },
  {
   "cell_type": "code",
   "execution_count": 17,
   "metadata": {},
   "outputs": [
    {
     "data": {
      "text/html": [
       "<div>\n",
       "<style>\n",
       "    .dataframe thead tr:only-child th {\n",
       "        text-align: right;\n",
       "    }\n",
       "\n",
       "    .dataframe thead th {\n",
       "        text-align: left;\n",
       "    }\n",
       "\n",
       "    .dataframe tbody tr th {\n",
       "        vertical-align: top;\n",
       "    }\n",
       "</style>\n",
       "<table border=\"1\" class=\"dataframe\">\n",
       "  <thead>\n",
       "    <tr style=\"text-align: right;\">\n",
       "      <th></th>\n",
       "      <th>V02322</th>\n",
       "      <th>V4105</th>\n",
       "      <th>V4621</th>\n",
       "      <th>V02426</th>\n",
       "      <th>UF</th>\n",
       "      <th>Regiões</th>\n",
       "      <th>Regiao</th>\n",
       "    </tr>\n",
       "  </thead>\n",
       "  <tbody>\n",
       "    <tr>\n",
       "      <th>0</th>\n",
       "      <td>Não</td>\n",
       "      <td>URBANA - Cidade ou vila, área urbanizada</td>\n",
       "      <td>800.0</td>\n",
       "      <td>Não</td>\n",
       "      <td>Rondônia</td>\n",
       "      <td>Brasil</td>\n",
       "      <td>Norte</td>\n",
       "    </tr>\n",
       "    <tr>\n",
       "      <th>2</th>\n",
       "      <td>Sim</td>\n",
       "      <td>URBANA - Cidade ou vila, área urbanizada</td>\n",
       "      <td>1150.0</td>\n",
       "      <td>Sim</td>\n",
       "      <td>Rondônia</td>\n",
       "      <td>Brasil</td>\n",
       "      <td>Norte</td>\n",
       "    </tr>\n",
       "    <tr>\n",
       "      <th>3</th>\n",
       "      <td>Sim</td>\n",
       "      <td>URBANA - Cidade ou vila, área urbanizada</td>\n",
       "      <td>793.0</td>\n",
       "      <td>Sim</td>\n",
       "      <td>Rondônia</td>\n",
       "      <td>Brasil</td>\n",
       "      <td>Norte</td>\n",
       "    </tr>\n",
       "    <tr>\n",
       "      <th>4</th>\n",
       "      <td>Não</td>\n",
       "      <td>URBANA - Cidade ou vila, área urbanizada</td>\n",
       "      <td>2900.0</td>\n",
       "      <td>Não</td>\n",
       "      <td>Rondônia</td>\n",
       "      <td>Brasil</td>\n",
       "      <td>Norte</td>\n",
       "    </tr>\n",
       "    <tr>\n",
       "      <th>5</th>\n",
       "      <td>Sim</td>\n",
       "      <td>URBANA - Cidade ou vila, área urbanizada</td>\n",
       "      <td>1990.0</td>\n",
       "      <td>Sim</td>\n",
       "      <td>Rondônia</td>\n",
       "      <td>Brasil</td>\n",
       "      <td>Norte</td>\n",
       "    </tr>\n",
       "  </tbody>\n",
       "</table>\n",
       "</div>"
      ],
      "text/plain": [
       "  V02322                                     V4105   V4621 V02426        UF  \\\n",
       "0    Não  URBANA - Cidade ou vila, área urbanizada   800.0    Não  Rondônia   \n",
       "2    Sim  URBANA - Cidade ou vila, área urbanizada  1150.0    Sim  Rondônia   \n",
       "3    Sim  URBANA - Cidade ou vila, área urbanizada   793.0    Sim  Rondônia   \n",
       "4    Não  URBANA - Cidade ou vila, área urbanizada  2900.0    Não  Rondônia   \n",
       "5    Sim  URBANA - Cidade ou vila, área urbanizada  1990.0    Sim  Rondônia   \n",
       "\n",
       "  Regiões Regiao  \n",
       "0  Brasil  Norte  \n",
       "2  Brasil  Norte  \n",
       "3  Brasil  Norte  \n",
       "4  Brasil  Norte  \n",
       "5  Brasil  Norte  "
      ]
     },
     "execution_count": 17,
     "metadata": {},
     "output_type": "execute_result"
    }
   ],
   "source": [
    "dados_não_nulos=dados_não_nulos[dados_não_nulos['V4621']!=999999999999.0]\n",
    "dados_não_nulos.head()"
   ]
  },
  {
   "cell_type": "markdown",
   "metadata": {},
   "source": [
    "Utilizando o conceito de amplitude interquartil, definimos que qualquer valor que não esteja no intervalo [Q1 - 1,5Q: Q3 + 1,5Q] sendo Q = Q3 - Q1, Q3 (Terceiro Quartil) e Q1 (Primeiro Quartil), ou seja [-800:2080] seria extremo.\n",
    "\n"
   ]
  },
  {
   "cell_type": "code",
   "execution_count": 18,
   "metadata": {},
   "outputs": [
    {
     "data": {
      "text/plain": [
       "count    110483.000000\n",
       "mean       1253.139949\n",
       "std        1979.311037\n",
       "min           0.000000\n",
       "25%         411.000000\n",
       "50%         788.000000\n",
       "75%        1329.000000\n",
       "max      150000.000000\n",
       "Name: V4621, dtype: float64"
      ]
     },
     "execution_count": 18,
     "metadata": {},
     "output_type": "execute_result"
    }
   ],
   "source": [
    "renda = dados_não_nulos.V4621\n",
    "renda.describe()"
   ]
  },
  {
   "cell_type": "code",
   "execution_count": 19,
   "metadata": {},
   "outputs": [
    {
     "name": "stdout",
     "output_type": "stream",
     "text": [
      "Frequências relativas:\n",
      "[0.0, 234.25)       10.9\n",
      "[234.25, 468.5)     20.5\n",
      "[468.5, 937.0)      36.0\n",
      "[937.0, 1874.0)     25.5\n",
      "[1874.0, 2771.5)     7.2\n",
      "Name: V4621, dtype: float64 \n",
      "\n"
     ]
    }
   ],
   "source": [
    "faixa = (0,937/4 ,937/2, 937, 937*2,2771.5)\n",
    "rendarelativa = pd.cut(renda, faixa, False)\n",
    "print('Frequências relativas:')\n",
    "ut1 = (rendarelativa.value_counts(sort=False, normalize=True)*100).round(decimals=1)\n",
    "print(ut1,'\\n')"
   ]
  },
  {
   "cell_type": "code",
   "execution_count": 20,
   "metadata": {},
   "outputs": [
    {
     "ename": "NameError",
     "evalue": "name 'zeros_like' is not defined",
     "output_type": "error",
     "traceback": [
      "\u001b[1;31m---------------------------------------------------------------------------\u001b[0m",
      "\u001b[1;31mNameError\u001b[0m                                 Traceback (most recent call last)",
      "\u001b[1;32m<ipython-input-20-3571d25c7ae5>\u001b[0m in \u001b[0;36m<module>\u001b[1;34m()\u001b[0m\n\u001b[0;32m      6\u001b[0m \u001b[1;33m\u001b[0m\u001b[0m\n\u001b[0;32m      7\u001b[0m \u001b[0mplt\u001b[0m\u001b[1;33m.\u001b[0m\u001b[0msubplot\u001b[0m\u001b[1;33m(\u001b[0m\u001b[1;36m122\u001b[0m\u001b[1;33m)\u001b[0m\u001b[1;33m\u001b[0m\u001b[0m\n\u001b[1;32m----> 8\u001b[1;33m \u001b[0mplot\u001b[0m \u001b[1;33m=\u001b[0m \u001b[0mrenda\u001b[0m\u001b[1;33m.\u001b[0m\u001b[0mplot\u001b[0m\u001b[1;33m.\u001b[0m\u001b[0mhist\u001b[0m\u001b[1;33m(\u001b[0m\u001b[0mbins\u001b[0m\u001b[1;33m=\u001b[0m\u001b[0mfaixa\u001b[0m\u001b[1;33m,\u001b[0m \u001b[0mtitle\u001b[0m\u001b[1;33m=\u001b[0m\u001b[1;34m'Renda percapta domiciliar'\u001b[0m\u001b[1;33m,\u001b[0m \u001b[0mweights\u001b[0m\u001b[1;33m=\u001b[0m\u001b[0mzeros_like\u001b[0m\u001b[1;33m(\u001b[0m\u001b[0mrenda\u001b[0m\u001b[1;33m)\u001b[0m\u001b[1;33m+\u001b[0m\u001b[1;36m1.\u001b[0m\u001b[1;33m/\u001b[0m\u001b[0mrenda\u001b[0m\u001b[1;33m.\u001b[0m\u001b[0msize\u001b[0m\u001b[1;33m*\u001b[0m\u001b[1;36m100\u001b[0m\u001b[1;33m,\u001b[0m \u001b[0mfigsize\u001b[0m\u001b[1;33m=\u001b[0m\u001b[1;33m(\u001b[0m\u001b[1;36m6\u001b[0m\u001b[1;33m,\u001b[0m \u001b[1;36m6\u001b[0m\u001b[1;33m)\u001b[0m\u001b[1;33m,\u001b[0m \u001b[0mcolor\u001b[0m \u001b[1;33m=\u001b[0m \u001b[1;33m(\u001b[0m\u001b[1;34m'g'\u001b[0m\u001b[1;33m)\u001b[0m\u001b[1;33m,\u001b[0m \u001b[0malpha\u001b[0m\u001b[1;33m=\u001b[0m\u001b[1;36m0.5\u001b[0m\u001b[1;33m)\u001b[0m\u001b[1;33m\u001b[0m\u001b[0m\n\u001b[0m\u001b[0;32m      9\u001b[0m \u001b[0mplt\u001b[0m\u001b[1;33m.\u001b[0m\u001b[0mylabel\u001b[0m\u001b[1;33m(\u001b[0m\u001b[1;34m'Frequência Relativa'\u001b[0m\u001b[1;33m)\u001b[0m\u001b[1;33m\u001b[0m\u001b[0m\n\u001b[0;32m     10\u001b[0m \u001b[0mplt\u001b[0m\u001b[1;33m.\u001b[0m\u001b[0mxlabel\u001b[0m\u001b[1;33m(\u001b[0m\u001b[1;34m'renda (em reais)'\u001b[0m\u001b[1;33m)\u001b[0m\u001b[1;33m\u001b[0m\u001b[0m\n",
      "\u001b[1;31mNameError\u001b[0m: name 'zeros_like' is not defined"
     ]
    },
    {
     "data": {
      "image/png": "[encoded data removed]",
      "text/plain": [
       "<matplotlib.figure.Figure at 0x2240c159898>"
      ]
     },
     "metadata": {},
     "output_type": "display_data"
    }
   ],
   "source": [
    "fig = plt.figure(figsize=(11, 5))\n",
    "plt.subplot(121)\n",
    "plot = renda.plot.hist(bins=faixa,title='Renda percapta domiciliar', figsize=(6, 6), normed=1, alpha=0.5)\n",
    "plt.ylabel('Densidade')\n",
    "plt.xlabel('renda (em reais)')\n",
    "\n",
    "plt.subplot(122)\n",
    "plot = renda.plot.hist(bins=faixa, title='Renda percapta domiciliar', weights=zeros_like(renda)+1./renda.size*100, figsize=(6, 6), color = ('g'), alpha=0.5)\n",
    "plt.ylabel('Frequência Relativa')\n",
    "plt.xlabel('renda (em reais)')\n",
    "\n",
    "plt.tight_layout()\n",
    "plt.show()"
   ]
  },
  {
   "cell_type": "code",
   "execution_count": null,
   "metadata": {
    "collapsed": true
   },
   "outputs": [],
   "source": [
    "renda_região=pd.crosstab( rendarelativa, dados_não_nulos.Regiao, margins=True, rownames=['Renda per capta domiciliar (em salários mínimos)'], colnames=['Região'], normalize=True)*100\n",
    "renda_região=renda_região.round(decimals=1)\n",
    "renda_região"
   ]
  },
  {
   "cell_type": "code",
   "execution_count": 21,
   "metadata": {},
   "outputs": [
    {
     "ename": "NameError",
     "evalue": "name 'renda_região' is not defined",
     "output_type": "error",
     "traceback": [
      "\u001b[1;31m---------------------------------------------------------------------------\u001b[0m",
      "\u001b[1;31mNameError\u001b[0m                                 Traceback (most recent call last)",
      "\u001b[1;32m<ipython-input-21-810b83cc1147>\u001b[0m in \u001b[0;36m<module>\u001b[1;34m()\u001b[0m\n\u001b[1;32m----> 1\u001b[1;33m \u001b[0mplot\u001b[0m \u001b[1;33m=\u001b[0m \u001b[0mrenda_região\u001b[0m\u001b[1;33m.\u001b[0m\u001b[0mplot\u001b[0m\u001b[1;33m(\u001b[0m\u001b[0mkind\u001b[0m\u001b[1;33m=\u001b[0m\u001b[1;34m'bar'\u001b[0m\u001b[1;33m)\u001b[0m\u001b[1;33m\u001b[0m\u001b[0m\n\u001b[0m\u001b[0;32m      2\u001b[0m \u001b[0mplt\u001b[0m\u001b[1;33m.\u001b[0m\u001b[0mylabel\u001b[0m\u001b[1;33m(\u001b[0m\u001b[1;34m'Freq.Relativa (em %)'\u001b[0m\u001b[1;33m)\u001b[0m\u001b[1;33m\u001b[0m\u001b[0m\n",
      "\u001b[1;31mNameError\u001b[0m: name 'renda_região' is not defined"
     ]
    }
   ],
   "source": [
    "plot = renda_região.plot(kind='bar')\n",
    "plt.ylabel('Freq.Relativa (em %)')"
   ]
  },
  {
   "cell_type": "code",
   "execution_count": null,
   "metadata": {
    "collapsed": true
   },
   "outputs": [],
   "source": [
    "regiaointernet=pd.crosstab( dados_não_nulos.V02322,dados_não_nulos.Regiao, margins=True, rownames=['Acesso Internet'], colnames=['Região'], normalize=True)*100\n",
    "regiaointernet=regiaointernet.round(decimals=1)\n",
    "regiaointernet"
   ]
  },
  {
   "cell_type": "code",
   "execution_count": null,
   "metadata": {
    "collapsed": true
   },
   "outputs": [],
   "source": [
    "plot = regiaointernet.plot(kind='bar')\n",
    "plt.ylabel('Freq.Relativa (em %)')"
   ]
  },
  {
   "cell_type": "code",
   "execution_count": null,
   "metadata": {
    "collapsed": true
   },
   "outputs": [],
   "source": [
    "#Código do Hélio\n",
    "#tabela = pd.DataFrame({\"Números de cômodo do domicílio\":Documento.V0205,\"Total de moradores\":Documento.V0105,\"Renda Percapita\":Documento.V4621,\"Número de televisões em cores\":Documento.V0226,\"Unidade da Federação\":Documento.UF})"
   ]
  },
  {
   "cell_type": "code",
   "execution_count": null,
   "metadata": {
    "collapsed": true
   },
   "outputs": [],
   "source": [
    "#Código do Hélio\n",
    "#tabela_não_nula = tabela[pd.notnull(Documento.V0205)&pd.notnull(Documento.V0105)&pd.notnull(Documento.V4621)&pd.notnull(Documento.V0226)&pd.notnull(Documento.UF)]\n",
    "#tabela_não_nula.head(10)\n",
    "\n",
    "#Código do Professor\n",
    "#dados_não_nulos = dados_resumidos[pd.notnull(Documento.V0205)&pd.notnull(Documento.V0105)&pd.notnull(Documento.V4621)&pd.notnull(Documento.V0226)&pd.notnull(Documento.UF)]\n",
    "#dados_não_nulos.head()\n"
   ]
  },
  {
   "cell_type": "code",
   "execution_count": null,
   "metadata": {
    "collapsed": true
   },
   "outputs": [],
   "source": [
    "dados_não_nulos=dados_não_nulos.rename(columns={\"V0205\":\"Números de cômodo do domicílio\",\"V0105\":\"Total de moradores\",\"V4621\":\"Renda percapita\",\"V0226\":\"Número de televisões em cores\",\"UF\":\"Unidade da Federação\"})\n",
    "#Caso o sua coluna contenha sim, não, Não sabe\n",
    "#dados_não_nulos.V0205= Documentoastype(\"category\")\n",
    "#dados_não_nulos.V0205.cat.categories = {[\"Sim\",\"Não\",\"Não sabe\"]}\n",
    "dados_não_nulos.head()"
   ]
  },
  {
   "cell_type": "code",
   "execution_count": null,
   "metadata": {
    "collapsed": true
   },
   "outputs": [],
   "source": [
    "#Código Null Manoela\n"
   ]
  },
  {
   "cell_type": "markdown",
   "metadata": {},
   "source": [
    "___\n",
    "## Conclusão "
   ]
  },
  {
   "cell_type": "markdown",
   "metadata": {
    "collapsed": true
   },
   "source": [
    "Descreva aqui suas conclusões!"
   ]
  },
  {
   "cell_type": "code",
   "execution_count": null,
   "metadata": {
    "collapsed": true
   },
   "outputs": [],
   "source": []
  },
  {
   "cell_type": "code",
   "execution_count": null,
   "metadata": {
    "collapsed": true
   },
   "outputs": [],
   "source": []
  }
 ],
 "metadata": {
  "anaconda-cloud": {},
  "kernelspec": {
   "display_name": "Python 3",
   "language": "python",
   "name": "python3"
  },
  "language_info": {
   "codemirror_mode": {
    "name": "ipython",
    "version": 3
   },
   "file_extension": ".py",
   "mimetype": "text/x-python",
   "name": "python",
   "nbconvert_exporter": "python",
   "pygments_lexer": "ipython3",
   "version": "3.6.1"
  }
 },
 "nbformat": 4,
 "nbformat_minor": 1
}
