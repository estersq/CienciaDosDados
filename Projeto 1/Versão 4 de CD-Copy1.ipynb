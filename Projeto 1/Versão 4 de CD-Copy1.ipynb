{
 "cells": [
  {
   "cell_type": "markdown",
   "metadata": {},
   "source": [
    "## Qual a relação do acesso à internet banda larga domiciliar com a renda per capita nas áreas rurais e urbanas das regiões brasileiras?\n",
    "\n"
   ]
  },
  {
   "cell_type": "code",
   "execution_count": 59,
   "metadata": {
    "collapsed": true
   },
   "outputs": [],
   "source": [
    "%matplotlib inline\n",
    "import pandas as pd\n",
    "import matplotlib.pyplot as plt\n",
    "import numpy as np\n",
    "from numpy import zeros_like\n",
    "import os "
   ]
  },
  {
   "cell_type": "code",
   "execution_count": 60,
   "metadata": {},
   "outputs": [
    {
     "name": "stdout",
     "output_type": "stream",
     "text": [
      "Esperamos trabalhar no diretório\n",
      "C:\\Users\\Ester Quintino\\Documents\\GitHub\\CienciaDosDados\n"
     ]
    }
   ],
   "source": [
    "print('Esperamos trabalhar no diretório')\n",
    "print(os.getcwd())"
   ]
  },
  {
   "cell_type": "code",
   "execution_count": 61,
   "metadata": {
    "collapsed": true
   },
   "outputs": [],
   "source": [
    "Documento = pd.read_csv('DOM2015csv.zip', compression='zip', header=0, sep=',', quotechar='\"')"
   ]
  },
  {
   "cell_type": "code",
   "execution_count": 62,
   "metadata": {
    "collapsed": true
   },
   "outputs": [],
   "source": [
    "#dados_não_nulos=dados_não_nulos.rename(columns={\"V02322\":\"NetNoDomicílio\",\"V4105\":\"SituaçãoCensitária\",\"V4621\":\"RendaPercapita\",\"V02426\":\"AcessoPorBandaLarga\",\"UF\":\"UF\"})\n"
   ]
  },
  {
   "cell_type": "code",
   "execution_count": 63,
   "metadata": {},
   "outputs": [
    {
     "data": {
      "text/html": [
       "<div>\n",
       "<style>\n",
       "    .dataframe thead tr:only-child th {\n",
       "        text-align: right;\n",
       "    }\n",
       "\n",
       "    .dataframe thead th {\n",
       "        text-align: left;\n",
       "    }\n",
       "\n",
       "    .dataframe tbody tr th {\n",
       "        vertical-align: top;\n",
       "    }\n",
       "</style>\n",
       "<table border=\"1\" class=\"dataframe\">\n",
       "  <thead>\n",
       "    <tr style=\"text-align: right;\">\n",
       "      <th></th>\n",
       "      <th>V02322</th>\n",
       "      <th>V4105</th>\n",
       "      <th>V4621</th>\n",
       "      <th>V02426</th>\n",
       "      <th>UF</th>\n",
       "    </tr>\n",
       "  </thead>\n",
       "  <tbody>\n",
       "    <tr>\n",
       "      <th>0</th>\n",
       "      <td>4.0</td>\n",
       "      <td>1</td>\n",
       "      <td>800.0</td>\n",
       "      <td>NaN</td>\n",
       "      <td>11</td>\n",
       "    </tr>\n",
       "    <tr>\n",
       "      <th>1</th>\n",
       "      <td>NaN</td>\n",
       "      <td>1</td>\n",
       "      <td>NaN</td>\n",
       "      <td>NaN</td>\n",
       "      <td>11</td>\n",
       "    </tr>\n",
       "    <tr>\n",
       "      <th>2</th>\n",
       "      <td>2.0</td>\n",
       "      <td>1</td>\n",
       "      <td>1150.0</td>\n",
       "      <td>2.0</td>\n",
       "      <td>11</td>\n",
       "    </tr>\n",
       "    <tr>\n",
       "      <th>3</th>\n",
       "      <td>2.0</td>\n",
       "      <td>1</td>\n",
       "      <td>793.0</td>\n",
       "      <td>2.0</td>\n",
       "      <td>11</td>\n",
       "    </tr>\n",
       "    <tr>\n",
       "      <th>4</th>\n",
       "      <td>4.0</td>\n",
       "      <td>1</td>\n",
       "      <td>2900.0</td>\n",
       "      <td>NaN</td>\n",
       "      <td>11</td>\n",
       "    </tr>\n",
       "  </tbody>\n",
       "</table>\n",
       "</div>"
      ],
      "text/plain": [
       "   V02322  V4105   V4621  V02426  UF\n",
       "0     4.0      1   800.0     NaN  11\n",
       "1     NaN      1     NaN     NaN  11\n",
       "2     2.0      1  1150.0     2.0  11\n",
       "3     2.0      1   793.0     2.0  11\n",
       "4     4.0      1  2900.0     NaN  11"
      ]
     },
     "execution_count": 63,
     "metadata": {},
     "output_type": "execute_result"
    }
   ],
   "source": [
    "dados=pd.read_csv('DOM2015csv.zip', compression='zip', header=0, sep=',', quotechar='\"')\n",
    "dados_resumidos=dados.loc[:,[\"V02322\",\"V4105\",\"V4621\",\"V02426\",\"UF\"]]#.dropna(axis=0)\n",
    "dados_resumidos.to_csv(\"resumo.csv\")\n",
    "dados_resumidos.head()\n"
   ]
  },
  {
   "cell_type": "code",
   "execution_count": 64,
   "metadata": {},
   "outputs": [
    {
     "data": {
      "text/html": [
       "<div>\n",
       "<style>\n",
       "    .dataframe thead tr:only-child th {\n",
       "        text-align: right;\n",
       "    }\n",
       "\n",
       "    .dataframe thead th {\n",
       "        text-align: left;\n",
       "    }\n",
       "\n",
       "    .dataframe tbody tr th {\n",
       "        vertical-align: top;\n",
       "    }\n",
       "</style>\n",
       "<table border=\"1\" class=\"dataframe\">\n",
       "  <thead>\n",
       "    <tr style=\"text-align: right;\">\n",
       "      <th></th>\n",
       "      <th>V02322</th>\n",
       "      <th>V4105</th>\n",
       "      <th>V4621</th>\n",
       "      <th>V02426</th>\n",
       "      <th>UF</th>\n",
       "    </tr>\n",
       "  </thead>\n",
       "  <tbody>\n",
       "    <tr>\n",
       "      <th>0</th>\n",
       "      <td>4.0</td>\n",
       "      <td>1</td>\n",
       "      <td>800.0</td>\n",
       "      <td>NaN</td>\n",
       "      <td>11</td>\n",
       "    </tr>\n",
       "    <tr>\n",
       "      <th>1</th>\n",
       "      <td>NaN</td>\n",
       "      <td>1</td>\n",
       "      <td>NaN</td>\n",
       "      <td>NaN</td>\n",
       "      <td>11</td>\n",
       "    </tr>\n",
       "    <tr>\n",
       "      <th>2</th>\n",
       "      <td>2.0</td>\n",
       "      <td>1</td>\n",
       "      <td>1150.0</td>\n",
       "      <td>2.0</td>\n",
       "      <td>11</td>\n",
       "    </tr>\n",
       "    <tr>\n",
       "      <th>3</th>\n",
       "      <td>2.0</td>\n",
       "      <td>1</td>\n",
       "      <td>793.0</td>\n",
       "      <td>2.0</td>\n",
       "      <td>11</td>\n",
       "    </tr>\n",
       "    <tr>\n",
       "      <th>4</th>\n",
       "      <td>4.0</td>\n",
       "      <td>1</td>\n",
       "      <td>2900.0</td>\n",
       "      <td>NaN</td>\n",
       "      <td>11</td>\n",
       "    </tr>\n",
       "  </tbody>\n",
       "</table>\n",
       "</div>"
      ],
      "text/plain": [
       "   V02322  V4105   V4621  V02426  UF\n",
       "0     4.0      1   800.0     NaN  11\n",
       "1     NaN      1     NaN     NaN  11\n",
       "2     2.0      1  1150.0     2.0  11\n",
       "3     2.0      1   793.0     2.0  11\n",
       "4     4.0      1  2900.0     NaN  11"
      ]
     },
     "execution_count": 64,
     "metadata": {},
     "output_type": "execute_result"
    }
   ],
   "source": [
    "dados_não_nulos = dados_resumidos\n",
    "dados_não_nulos.head()"
   ]
  },
  {
   "cell_type": "code",
   "execution_count": 65,
   "metadata": {},
   "outputs": [
    {
     "name": "stderr",
     "output_type": "stream",
     "text": [
      "C:\\Anaconda3\\lib\\site-packages\\pandas\\core\\generic.py:2999: SettingWithCopyWarning: \n",
      "A value is trying to be set on a copy of a slice from a DataFrame.\n",
      "Try using .loc[row_indexer,col_indexer] = value instead\n",
      "\n",
      "See the caveats in the documentation: http://pandas.pydata.org/pandas-docs/stable/indexing.html#indexing-view-versus-copy\n",
      "  self[name] = value\n"
     ]
    }
   ],
   "source": [
    "#Mudanças categorias\n",
    "dados_não_nulos.V02322=dados.V02322.astype('category')\n",
    "dados_não_nulos.V02322.cat.categories=([\"Sim\",\"Não\"])\n",
    "dados_não_nulos.V02426=dados.V02322.astype('category')\n",
    "dados_não_nulos.V02426.cat.categories=([\"Sim\",\"Não\"])\n",
    "\n",
    "dados_não_nulos.UF=dados.UF.astype('category')\n",
    "dados_não_nulos.UF.cat.categories=([\"Rondônia\",\"Acre\",\"Amazonas\",\"Roraima\",\"Pará\",\"Amapá\",\"Tocantins\",\"Maranhão\",\"Piauí\",\"Ceará\",\"Rio Grande do Norte\",\"Paraíba\",\"Pernambuco\",\"Alagoas\",\"Sergipe\",\"Bahia\",\"Minas Gerais\",\"Espírito Santo\",\"Rio de Janeiro\",\"São Paulo\",\"Paraná\",\"Santa Catarina\",\"Rio Grande do Sul\",\"Mato Grosso do Sul\",\"Mato Grosso\",\"Goías\",\"Distrito Federal\"])\n",
    "dados_não_nulos.loc[(dados_não_nulos.UF==\"Rondônia\")|(dados_não_nulos.UF==\"Acre\")|(dados_não_nulos.UF==\"Amazonas\")|(dados_não_nulos.UF==\"Roraima\")|(dados_não_nulos.UF==\"Pará\")|(dados_não_nulos.UF==\"Amapá\")|(dados_não_nulos.UF==\"Tocantins\")|(dados_não_nulos.UF==\"Maranhão\")|(dados_não_nulos.UF==\"Piauí\")|(dados_não_nulos.UF==\"Ceará\")|(dados_não_nulos.UF==\"Rio Grande do Norte\")|(dados_não_nulos.UF==\"Paraíba\")|(dados_não_nulos.UF==\"Pernambuco\")|(dados_não_nulos.UF==\"Alagoas\")|(dados_não_nulos.UF==\"Sergipe\")|(dados_não_nulos.UF==\"Bahia\")|(dados_não_nulos.UF==\"Minas Gerais\")|(dados_não_nulos.UF==\"Espírito Santo\")|(dados_não_nulos.UF==\"Rio de Janeiro\")|(dados_não_nulos.UF==\"São Paulo\")|(dados_não_nulos.UF==\"Paraná\")|(dados_não_nulos.UF==\"Santa Catarina\")|(dados_não_nulos.UF==\"Rio Grande do Sul\")|(dados_não_nulos.UF==\"Mato Grosso do Sul\")|(dados_não_nulos.UF==\"Mato Grosso\")|(dados_não_nulos.UF==\"Goiás\")|(dados_não_nulos.UF==\"Distrito Federal\"),\"Regiões\"]=\"Brasil\"\n",
    "dados_não_nulos=dados_não_nulos.dropna(axis=0)\n",
    "dados_não_nulos\n",
    "\n",
    "dados_não_nulos.V4105=dados.V4105.astype('category')\n",
    "dados_não_nulos.V4105.cat.categories = ([\"URBANA - Cidade ou vila, área urbanizada\",\"URBANA - Cidade ou vila, área não urbanizada\",\"URBANA - Área urbana isolada\",\"RURAL - Aglomerado rural de extensão urbana \",\"RURAL - Aglomerado rural, isolado, povoado\",\"RURAL - Aglomerado rural, isolado, núcleo\",\"RURAL- Aglomerado rural, isolado, outros aglomerados\", \"RURAL - Zona rural exclusive aglomerado rural\"])\n"
   ]
  },
  {
   "cell_type": "code",
   "execution_count": 66,
   "metadata": {},
   "outputs": [
    {
     "name": "stderr",
     "output_type": "stream",
     "text": [
      "C:\\Anaconda3\\lib\\site-packages\\pandas\\core\\indexing.py:337: SettingWithCopyWarning: \n",
      "A value is trying to be set on a copy of a slice from a DataFrame.\n",
      "Try using .loc[row_indexer,col_indexer] = value instead\n",
      "\n",
      "See the caveats in the documentation: http://pandas.pydata.org/pandas-docs/stable/indexing.html#indexing-view-versus-copy\n",
      "  self.obj[key] = _infer_fill_value(value)\n",
      "C:\\Anaconda3\\lib\\site-packages\\pandas\\core\\indexing.py:517: SettingWithCopyWarning: \n",
      "A value is trying to be set on a copy of a slice from a DataFrame.\n",
      "Try using .loc[row_indexer,col_indexer] = value instead\n",
      "\n",
      "See the caveats in the documentation: http://pandas.pydata.org/pandas-docs/stable/indexing.html#indexing-view-versus-copy\n",
      "  self.obj[item] = s\n"
     ]
    },
    {
     "data": {
      "text/html": [
       "<div>\n",
       "<style>\n",
       "    .dataframe thead tr:only-child th {\n",
       "        text-align: right;\n",
       "    }\n",
       "\n",
       "    .dataframe thead th {\n",
       "        text-align: left;\n",
       "    }\n",
       "\n",
       "    .dataframe tbody tr th {\n",
       "        vertical-align: top;\n",
       "    }\n",
       "</style>\n",
       "<table border=\"1\" class=\"dataframe\">\n",
       "  <thead>\n",
       "    <tr style=\"text-align: right;\">\n",
       "      <th></th>\n",
       "      <th>V02322</th>\n",
       "      <th>V4105</th>\n",
       "      <th>V4621</th>\n",
       "      <th>V02426</th>\n",
       "      <th>UF</th>\n",
       "      <th>Regiões</th>\n",
       "      <th>Regiao</th>\n",
       "    </tr>\n",
       "  </thead>\n",
       "  <tbody>\n",
       "    <tr>\n",
       "      <th>0</th>\n",
       "      <td>Não</td>\n",
       "      <td>URBANA - Cidade ou vila, área urbanizada</td>\n",
       "      <td>800.0</td>\n",
       "      <td>Não</td>\n",
       "      <td>Rondônia</td>\n",
       "      <td>Brasil</td>\n",
       "      <td>Norte</td>\n",
       "    </tr>\n",
       "    <tr>\n",
       "      <th>2</th>\n",
       "      <td>Sim</td>\n",
       "      <td>URBANA - Cidade ou vila, área urbanizada</td>\n",
       "      <td>1150.0</td>\n",
       "      <td>Sim</td>\n",
       "      <td>Rondônia</td>\n",
       "      <td>Brasil</td>\n",
       "      <td>Norte</td>\n",
       "    </tr>\n",
       "    <tr>\n",
       "      <th>3</th>\n",
       "      <td>Sim</td>\n",
       "      <td>URBANA - Cidade ou vila, área urbanizada</td>\n",
       "      <td>793.0</td>\n",
       "      <td>Sim</td>\n",
       "      <td>Rondônia</td>\n",
       "      <td>Brasil</td>\n",
       "      <td>Norte</td>\n",
       "    </tr>\n",
       "    <tr>\n",
       "      <th>4</th>\n",
       "      <td>Não</td>\n",
       "      <td>URBANA - Cidade ou vila, área urbanizada</td>\n",
       "      <td>2900.0</td>\n",
       "      <td>Não</td>\n",
       "      <td>Rondônia</td>\n",
       "      <td>Brasil</td>\n",
       "      <td>Norte</td>\n",
       "    </tr>\n",
       "    <tr>\n",
       "      <th>5</th>\n",
       "      <td>Sim</td>\n",
       "      <td>URBANA - Cidade ou vila, área urbanizada</td>\n",
       "      <td>1990.0</td>\n",
       "      <td>Sim</td>\n",
       "      <td>Rondônia</td>\n",
       "      <td>Brasil</td>\n",
       "      <td>Norte</td>\n",
       "    </tr>\n",
       "  </tbody>\n",
       "</table>\n",
       "</div>"
      ],
      "text/plain": [
       "  V02322                                     V4105   V4621 V02426        UF  \\\n",
       "0    Não  URBANA - Cidade ou vila, área urbanizada   800.0    Não  Rondônia   \n",
       "2    Sim  URBANA - Cidade ou vila, área urbanizada  1150.0    Sim  Rondônia   \n",
       "3    Sim  URBANA - Cidade ou vila, área urbanizada   793.0    Sim  Rondônia   \n",
       "4    Não  URBANA - Cidade ou vila, área urbanizada  2900.0    Não  Rondônia   \n",
       "5    Sim  URBANA - Cidade ou vila, área urbanizada  1990.0    Sim  Rondônia   \n",
       "\n",
       "  Regiões Regiao  \n",
       "0  Brasil  Norte  \n",
       "2  Brasil  Norte  \n",
       "3  Brasil  Norte  \n",
       "4  Brasil  Norte  \n",
       "5  Brasil  Norte  "
      ]
     },
     "execution_count": 66,
     "metadata": {},
     "output_type": "execute_result"
    }
   ],
   "source": [
    "dados_não_nulos.loc[(dados_não_nulos.UF=='Rondônia') | (dados_não_nulos.UF=='Acre') | (dados_não_nulos.UF=='Amazonas') | (dados_não_nulos.UF=='Roraima') | (dados_não_nulos.UF=='Pará') | (dados_não_nulos.UF=='Amapá') | (dados_não_nulos.UF=='Tocantins'),'Regiao'] = 'Norte'\n",
    "dados_não_nulos.loc[(dados_não_nulos.UF=='Maranhão') | (dados_não_nulos.UF=='Piaui') | (dados_não_nulos.UF=='Caerá') | (dados_não_nulos.UF=='Rio Grande do Norte') | (dados_não_nulos.UF=='Paraíba') | (dados_não_nulos.UF=='Pernambuco') | (dados_não_nulos.UF=='Alagoas') | (dados_não_nulos.UF=='Sergipe') | (dados_não_nulos.UF=='Bahia'),'Regiao'] = 'Nordeste'\n",
    "dados_não_nulos.loc[(dados_não_nulos.UF=='Minas Gerais') | (dados_não_nulos.UF=='Espirito Santo') | (dados_não_nulos.UF=='Rio de Janeiro') | (dados_não_nulos.UF=='São Paulo'),'Regiao'] = 'Sudeste'\n",
    "dados_não_nulos.loc[(dados_não_nulos.UF=='Paraná') | (dados_não_nulos.UF=='Santa Catarina') | (dados_não_nulos.UF=='Rio Grande do Sul'),'Regiao'] = 'Sul'\n",
    "dados_não_nulos.loc[(dados_não_nulos.UF=='Mato Grosso do Sul') | (dados_não_nulos.UF=='Mato Grosso') | (dados_não_nulos.UF=='Goiás') | (dados_não_nulos.UF=='Distrito Federal'),'Regiao'] = 'Centroeste'\n",
    "dados_não_nulos.head()"
   ]
  },
  {
   "cell_type": "code",
   "execution_count": 67,
   "metadata": {},
   "outputs": [
    {
     "data": {
      "text/html": [
       "<div>\n",
       "<style>\n",
       "    .dataframe thead tr:only-child th {\n",
       "        text-align: right;\n",
       "    }\n",
       "\n",
       "    .dataframe thead th {\n",
       "        text-align: left;\n",
       "    }\n",
       "\n",
       "    .dataframe tbody tr th {\n",
       "        vertical-align: top;\n",
       "    }\n",
       "</style>\n",
       "<table border=\"1\" class=\"dataframe\">\n",
       "  <thead>\n",
       "    <tr style=\"text-align: right;\">\n",
       "      <th></th>\n",
       "      <th>V02322</th>\n",
       "      <th>V4105</th>\n",
       "      <th>V4621</th>\n",
       "      <th>V02426</th>\n",
       "      <th>UF</th>\n",
       "      <th>Regiões</th>\n",
       "      <th>Regiao</th>\n",
       "    </tr>\n",
       "  </thead>\n",
       "  <tbody>\n",
       "    <tr>\n",
       "      <th>0</th>\n",
       "      <td>Não</td>\n",
       "      <td>URBANA - Cidade ou vila, área urbanizada</td>\n",
       "      <td>800.0</td>\n",
       "      <td>Não</td>\n",
       "      <td>Rondônia</td>\n",
       "      <td>Brasil</td>\n",
       "      <td>Norte</td>\n",
       "    </tr>\n",
       "    <tr>\n",
       "      <th>2</th>\n",
       "      <td>Sim</td>\n",
       "      <td>URBANA - Cidade ou vila, área urbanizada</td>\n",
       "      <td>1150.0</td>\n",
       "      <td>Sim</td>\n",
       "      <td>Rondônia</td>\n",
       "      <td>Brasil</td>\n",
       "      <td>Norte</td>\n",
       "    </tr>\n",
       "    <tr>\n",
       "      <th>3</th>\n",
       "      <td>Sim</td>\n",
       "      <td>URBANA - Cidade ou vila, área urbanizada</td>\n",
       "      <td>793.0</td>\n",
       "      <td>Sim</td>\n",
       "      <td>Rondônia</td>\n",
       "      <td>Brasil</td>\n",
       "      <td>Norte</td>\n",
       "    </tr>\n",
       "    <tr>\n",
       "      <th>4</th>\n",
       "      <td>Não</td>\n",
       "      <td>URBANA - Cidade ou vila, área urbanizada</td>\n",
       "      <td>2900.0</td>\n",
       "      <td>Não</td>\n",
       "      <td>Rondônia</td>\n",
       "      <td>Brasil</td>\n",
       "      <td>Norte</td>\n",
       "    </tr>\n",
       "    <tr>\n",
       "      <th>5</th>\n",
       "      <td>Sim</td>\n",
       "      <td>URBANA - Cidade ou vila, área urbanizada</td>\n",
       "      <td>1990.0</td>\n",
       "      <td>Sim</td>\n",
       "      <td>Rondônia</td>\n",
       "      <td>Brasil</td>\n",
       "      <td>Norte</td>\n",
       "    </tr>\n",
       "  </tbody>\n",
       "</table>\n",
       "</div>"
      ],
      "text/plain": [
       "  V02322                                     V4105   V4621 V02426        UF  \\\n",
       "0    Não  URBANA - Cidade ou vila, área urbanizada   800.0    Não  Rondônia   \n",
       "2    Sim  URBANA - Cidade ou vila, área urbanizada  1150.0    Sim  Rondônia   \n",
       "3    Sim  URBANA - Cidade ou vila, área urbanizada   793.0    Sim  Rondônia   \n",
       "4    Não  URBANA - Cidade ou vila, área urbanizada  2900.0    Não  Rondônia   \n",
       "5    Sim  URBANA - Cidade ou vila, área urbanizada  1990.0    Sim  Rondônia   \n",
       "\n",
       "  Regiões Regiao  \n",
       "0  Brasil  Norte  \n",
       "2  Brasil  Norte  \n",
       "3  Brasil  Norte  \n",
       "4  Brasil  Norte  \n",
       "5  Brasil  Norte  "
      ]
     },
     "execution_count": 67,
     "metadata": {},
     "output_type": "execute_result"
    }
   ],
   "source": [
    "dados_não_nulos=dados_não_nulos[dados_não_nulos['V4621']!=999999999999.0]\n",
    "dados_não_nulos.head()\n"
   ]
  },
  {
   "cell_type": "code",
   "execution_count": 68,
   "metadata": {},
   "outputs": [
    {
     "data": {
      "text/plain": [
       "count    110483.000000\n",
       "mean       1253.139949\n",
       "std        1979.311037\n",
       "min           0.000000\n",
       "25%         411.000000\n",
       "50%         788.000000\n",
       "75%        1329.000000\n",
       "max      150000.000000\n",
       "Name: V4621, dtype: float64"
      ]
     },
     "execution_count": 68,
     "metadata": {},
     "output_type": "execute_result"
    }
   ],
   "source": [
    "renda = dados_não_nulos.V4621\n",
    "renda.describe()"
   ]
  },
  {
   "cell_type": "code",
   "execution_count": 69,
   "metadata": {},
   "outputs": [
    {
     "name": "stdout",
     "output_type": "stream",
     "text": [
      "Frequências relativas:\n",
      "[0.0, 234.25)       10.9\n",
      "[234.25, 468.5)     20.5\n",
      "[468.5, 937.0)      36.0\n",
      "[937.0, 1874.0)     25.5\n",
      "[1874.0, 2771.5)     7.2\n",
      "Name: V4621, dtype: float64 \n",
      "\n"
     ]
    }
   ],
   "source": [
    "faixa = (0,937/4 ,937/2, 937, 937*2,2771.5)\n",
    "rendarelativa = pd.cut(renda, faixa, False)\n",
    "print('Frequências relativas:')\n",
    "ut1 = (rendarelativa.value_counts(sort=False, normalize=True)*100).round(decimals=1)\n",
    "print(ut1,'\\n')"
   ]
  },
  {
   "cell_type": "code",
   "execution_count": 70,
   "metadata": {},
   "outputs": [
    {
     "data": {
      "image/png": "[encoded data removed]",
      "text/plain": [
       "<matplotlib.figure.Figure at 0x1a1e1d5d7b8>"
      ]
     },
     "metadata": {},
     "output_type": "display_data"
    }
   ],
   "source": [
    "fig = plt.figure(figsize=(11, 5))\n",
    "plt.subplot(121)\n",
    "plot = renda.plot.hist(bins=faixa,title='Renda percapta domiciliar', figsize=(6, 6), normed=1, alpha=0.5)\n",
    "plt.ylabel('Densidade')\n",
    "plt.xlabel('renda (em reais)')\n",
    "\n",
    "plt.subplot(122)\n",
    "plot = renda.plot.hist(bins=faixa, title='Renda percapta domiciliar', weights=zeros_like(renda)+1./renda.size*100, figsize=(6, 6), color = ('g'), alpha=0.5)\n",
    "plt.ylabel('Frequência Relativa')\n",
    "plt.xlabel('renda (em reais)')\n",
    "\n",
    "plt.tight_layout()\n",
    "plt.show()"
   ]
  },
  {
   "cell_type": "code",
   "execution_count": 71,
   "metadata": {},
   "outputs": [
    {
     "data": {
      "text/html": [
       "<div>\n",
       "<style>\n",
       "    .dataframe thead tr:only-child th {\n",
       "        text-align: right;\n",
       "    }\n",
       "\n",
       "    .dataframe thead th {\n",
       "        text-align: left;\n",
       "    }\n",
       "\n",
       "    .dataframe tbody tr th {\n",
       "        vertical-align: top;\n",
       "    }\n",
       "</style>\n",
       "<table border=\"1\" class=\"dataframe\">\n",
       "  <thead>\n",
       "    <tr style=\"text-align: right;\">\n",
       "      <th>Região</th>\n",
       "      <th>Centroeste</th>\n",
       "      <th>Nordeste</th>\n",
       "      <th>Norte</th>\n",
       "      <th>Sudeste</th>\n",
       "      <th>Sul</th>\n",
       "      <th>All</th>\n",
       "    </tr>\n",
       "    <tr>\n",
       "      <th>Renda per capita domiciliar (em salários mínimos)</th>\n",
       "      <th></th>\n",
       "      <th></th>\n",
       "      <th></th>\n",
       "      <th></th>\n",
       "      <th></th>\n",
       "      <th></th>\n",
       "    </tr>\n",
       "  </thead>\n",
       "  <tbody>\n",
       "    <tr>\n",
       "      <th>[0.0, 234.25)</th>\n",
       "      <td>0.3</td>\n",
       "      <td>4.8</td>\n",
       "      <td>2.6</td>\n",
       "      <td>1.8</td>\n",
       "      <td>0.8</td>\n",
       "      <td>10.3</td>\n",
       "    </tr>\n",
       "    <tr>\n",
       "      <th>[234.25, 468.5)</th>\n",
       "      <td>1.1</td>\n",
       "      <td>6.9</td>\n",
       "      <td>4.8</td>\n",
       "      <td>5.1</td>\n",
       "      <td>2.2</td>\n",
       "      <td>20.0</td>\n",
       "    </tr>\n",
       "    <tr>\n",
       "      <th>[468.5, 937.0)</th>\n",
       "      <td>2.5</td>\n",
       "      <td>9.2</td>\n",
       "      <td>5.9</td>\n",
       "      <td>11.9</td>\n",
       "      <td>6.5</td>\n",
       "      <td>36.0</td>\n",
       "    </tr>\n",
       "    <tr>\n",
       "      <th>[937.0, 1874.0)</th>\n",
       "      <td>2.2</td>\n",
       "      <td>4.0</td>\n",
       "      <td>3.1</td>\n",
       "      <td>10.2</td>\n",
       "      <td>6.8</td>\n",
       "      <td>26.3</td>\n",
       "    </tr>\n",
       "    <tr>\n",
       "      <th>[1874.0, 2771.5)</th>\n",
       "      <td>0.8</td>\n",
       "      <td>1.0</td>\n",
       "      <td>0.8</td>\n",
       "      <td>2.9</td>\n",
       "      <td>2.0</td>\n",
       "      <td>7.4</td>\n",
       "    </tr>\n",
       "    <tr>\n",
       "      <th>All</th>\n",
       "      <td>6.9</td>\n",
       "      <td>25.9</td>\n",
       "      <td>17.2</td>\n",
       "      <td>31.8</td>\n",
       "      <td>18.2</td>\n",
       "      <td>100.0</td>\n",
       "    </tr>\n",
       "  </tbody>\n",
       "</table>\n",
       "</div>"
      ],
      "text/plain": [
       "Região                                             Centroeste  Nordeste  \\\n",
       "Renda per capita domiciliar (em salários mínimos)                         \n",
       "[0.0, 234.25)                                             0.3       4.8   \n",
       "[234.25, 468.5)                                           1.1       6.9   \n",
       "[468.5, 937.0)                                            2.5       9.2   \n",
       "[937.0, 1874.0)                                           2.2       4.0   \n",
       "[1874.0, 2771.5)                                          0.8       1.0   \n",
       "All                                                       6.9      25.9   \n",
       "\n",
       "Região                                             Norte  Sudeste   Sul    All  \n",
       "Renda per capita domiciliar (em salários mínimos)                               \n",
       "[0.0, 234.25)                                        2.6      1.8   0.8   10.3  \n",
       "[234.25, 468.5)                                      4.8      5.1   2.2   20.0  \n",
       "[468.5, 937.0)                                       5.9     11.9   6.5   36.0  \n",
       "[937.0, 1874.0)                                      3.1     10.2   6.8   26.3  \n",
       "[1874.0, 2771.5)                                     0.8      2.9   2.0    7.4  \n",
       "All                                                 17.2     31.8  18.2  100.0  "
      ]
     },
     "execution_count": 71,
     "metadata": {},
     "output_type": "execute_result"
    }
   ],
   "source": [
    "#Relação Renda Percapita Domiciliar e Região\n",
    "renda_região=pd.crosstab( rendarelativa, dados_não_nulos.Regiao, margins=True, rownames=['Renda per capita domiciliar (em salários mínimos)'], colnames=['Região'], normalize=True)*100\n",
    "renda_região=renda_região.round(decimals=1)\n",
    "renda_região"
   ]
  },
  {
   "cell_type": "code",
   "execution_count": 72,
   "metadata": {},
   "outputs": [
    {
     "data": {
      "text/plain": [
       "<matplotlib.text.Text at 0x1a1e21e9518>"
      ]
     },
     "execution_count": 72,
     "metadata": {},
     "output_type": "execute_result"
    },
    {
     "data": {
      "image/png": "[encoded data removed]",
      "text/plain": [
       "<matplotlib.figure.Figure at 0x1a1e94cc978>"
      ]
     },
     "metadata": {},
     "output_type": "display_data"
    }
   ],
   "source": [
    "plot = renda_região.plot(kind='bar')\n",
    "plt.ylabel('Freq.Relativa (em %)')"
   ]
  },
  {
   "cell_type": "code",
   "execution_count": 73,
   "metadata": {},
   "outputs": [
    {
     "data": {
      "text/html": [
       "<div>\n",
       "<style>\n",
       "    .dataframe thead tr:only-child th {\n",
       "        text-align: right;\n",
       "    }\n",
       "\n",
       "    .dataframe thead th {\n",
       "        text-align: left;\n",
       "    }\n",
       "\n",
       "    .dataframe tbody tr th {\n",
       "        vertical-align: top;\n",
       "    }\n",
       "</style>\n",
       "<table border=\"1\" class=\"dataframe\">\n",
       "  <thead>\n",
       "    <tr style=\"text-align: right;\">\n",
       "      <th>Região</th>\n",
       "      <th>Centroeste</th>\n",
       "      <th>Nordeste</th>\n",
       "      <th>Norte</th>\n",
       "      <th>Sudeste</th>\n",
       "      <th>Sul</th>\n",
       "      <th>All</th>\n",
       "    </tr>\n",
       "    <tr>\n",
       "      <th>Acesso à Internet</th>\n",
       "      <th></th>\n",
       "      <th></th>\n",
       "      <th></th>\n",
       "      <th></th>\n",
       "      <th></th>\n",
       "      <th></th>\n",
       "    </tr>\n",
       "  </thead>\n",
       "  <tbody>\n",
       "    <tr>\n",
       "      <th>Sim</th>\n",
       "      <td>4.8</td>\n",
       "      <td>12.6</td>\n",
       "      <td>7.8</td>\n",
       "      <td>21.4</td>\n",
       "      <td>11.9</td>\n",
       "      <td>58.4</td>\n",
       "    </tr>\n",
       "    <tr>\n",
       "      <th>Não</th>\n",
       "      <td>2.7</td>\n",
       "      <td>12.1</td>\n",
       "      <td>8.6</td>\n",
       "      <td>11.3</td>\n",
       "      <td>7.0</td>\n",
       "      <td>41.6</td>\n",
       "    </tr>\n",
       "    <tr>\n",
       "      <th>All</th>\n",
       "      <td>7.5</td>\n",
       "      <td>24.7</td>\n",
       "      <td>16.4</td>\n",
       "      <td>32.6</td>\n",
       "      <td>18.8</td>\n",
       "      <td>100.0</td>\n",
       "    </tr>\n",
       "  </tbody>\n",
       "</table>\n",
       "</div>"
      ],
      "text/plain": [
       "Região             Centroeste  Nordeste  Norte  Sudeste   Sul    All\n",
       "Acesso à Internet                                                   \n",
       "Sim                       4.8      12.6    7.8     21.4  11.9   58.4\n",
       "Não                       2.7      12.1    8.6     11.3   7.0   41.6\n",
       "All                       7.5      24.7   16.4     32.6  18.8  100.0"
      ]
     },
     "execution_count": 73,
     "metadata": {},
     "output_type": "execute_result"
    }
   ],
   "source": [
    "#Relação Acesso a Internet e Região\n",
    "regiaointernet=pd.crosstab( dados_não_nulos.V02322,dados_não_nulos.Regiao, margins=True, rownames=['Acesso à Internet'], colnames=['Região'], normalize=True)*100\n",
    "regiaointernet=regiaointernet.round(decimals=1)\n",
    "regiaointernet"
   ]
  },
  {
   "cell_type": "code",
   "execution_count": 74,
   "metadata": {},
   "outputs": [
    {
     "data": {
      "text/plain": [
       "<matplotlib.text.Text at 0x1a1818a4c50>"
      ]
     },
     "execution_count": 74,
     "metadata": {},
     "output_type": "execute_result"
    },
    {
     "data": {
      "image/png": "[encoded data removed]",
      "text/plain": [
       "<matplotlib.figure.Figure at 0x1a1818712e8>"
      ]
     },
     "metadata": {},
     "output_type": "display_data"
    }
   ],
   "source": [
    "plot = regiaointernet.plot(kind='bar')\n",
    "plt.ylabel('Freq.Relativa (em %)')"
   ]
  },
  {
   "cell_type": "code",
   "execution_count": 75,
   "metadata": {},
   "outputs": [
    {
     "data": {
      "text/html": [
       "<div>\n",
       "<style>\n",
       "    .dataframe thead tr:only-child th {\n",
       "        text-align: right;\n",
       "    }\n",
       "\n",
       "    .dataframe thead th {\n",
       "        text-align: left;\n",
       "    }\n",
       "\n",
       "    .dataframe tbody tr th {\n",
       "        vertical-align: top;\n",
       "    }\n",
       "</style>\n",
       "<table border=\"1\" class=\"dataframe\">\n",
       "  <thead>\n",
       "    <tr style=\"text-align: right;\">\n",
       "      <th>Internet no Domicílio</th>\n",
       "      <th>Sim</th>\n",
       "      <th>Não</th>\n",
       "      <th>All</th>\n",
       "    </tr>\n",
       "    <tr>\n",
       "      <th>Internet Banda Larga</th>\n",
       "      <th></th>\n",
       "      <th></th>\n",
       "      <th></th>\n",
       "    </tr>\n",
       "  </thead>\n",
       "  <tbody>\n",
       "    <tr>\n",
       "      <th>Sim</th>\n",
       "      <td>57.5</td>\n",
       "      <td>0.0</td>\n",
       "      <td>57.5</td>\n",
       "    </tr>\n",
       "    <tr>\n",
       "      <th>Não</th>\n",
       "      <td>0.0</td>\n",
       "      <td>42.5</td>\n",
       "      <td>42.5</td>\n",
       "    </tr>\n",
       "    <tr>\n",
       "      <th>All</th>\n",
       "      <td>57.5</td>\n",
       "      <td>42.5</td>\n",
       "      <td>100.0</td>\n",
       "    </tr>\n",
       "  </tbody>\n",
       "</table>\n",
       "</div>"
      ],
      "text/plain": [
       "Internet no Domicílio   Sim   Não    All\n",
       "Internet Banda Larga                    \n",
       "Sim                    57.5   0.0   57.5\n",
       "Não                     0.0  42.5   42.5\n",
       "All                    57.5  42.5  100.0"
      ]
     },
     "execution_count": 75,
     "metadata": {},
     "output_type": "execute_result"
    }
   ],
   "source": [
    "#Código Crosstab teste ,que relaciona Acesso a internet Banda Larga e Internet no Domicílio\n",
    "\n",
    "BandaLargaDomi=pd.crosstab( dados_não_nulos.V02426,dados_não_nulos.V02322, margins=True, rownames=['Internet Banda Larga'], colnames=['Internet no Domicílio'], normalize=True)*100\n",
    "BandaLargaDomi=BandaLargaDomi.round(decimals=1)\n",
    "BandaLargaDomi\n",
    "\n"
   ]
  },
  {
   "cell_type": "code",
   "execution_count": 76,
   "metadata": {},
   "outputs": [
    {
     "data": {
      "text/plain": [
       "<matplotlib.text.Text at 0x1a180d261d0>"
      ]
     },
     "execution_count": 76,
     "metadata": {},
     "output_type": "execute_result"
    },
    {
     "data": {
      "image/png": "[encoded data removed]",
      "text/plain": [
       "<matplotlib.figure.Figure at 0x1a180b64d68>"
      ]
     },
     "metadata": {},
     "output_type": "display_data"
    }
   ],
   "source": [
    "plot = BandaLargaDomi.plot(kind='bar')\n",
    "plt.ylabel('Freq.Relativa (em %)')"
   ]
  },
  {
   "cell_type": "code",
   "execution_count": 77,
   "metadata": {
    "collapsed": true
   },
   "outputs": [],
   "source": [
    "#Código Crosstab teste ,que relaciona Acesso a internet Banda Larga / Internet no Domicílio e Renda\n",
    "\n",
    "#AcessoRenda=pd.crosstab( BandaLargaDomi,renda_região, margins=True, rownames=['Internet Banda Larga'], colnames=['Renda por região'], normalize=True)*100\n",
    "#AcessoRenda=AcessoRenda.round(decimals=1)\n",
    "#AcessoRenda\n"
   ]
  },
  {
   "cell_type": "code",
   "execution_count": 78,
   "metadata": {
    "collapsed": true
   },
   "outputs": [],
   "source": [
    "#plot = AcessoRenda.plot(kind='bar')\n",
    "#plt.ylabel('Freq.Relativa (em %)')"
   ]
  },
  {
   "cell_type": "code",
   "execution_count": 79,
   "metadata": {},
   "outputs": [
    {
     "data": {
      "text/html": [
       "<div>\n",
       "<style>\n",
       "    .dataframe thead tr:only-child th {\n",
       "        text-align: right;\n",
       "    }\n",
       "\n",
       "    .dataframe thead th {\n",
       "        text-align: left;\n",
       "    }\n",
       "\n",
       "    .dataframe tbody tr th {\n",
       "        vertical-align: top;\n",
       "    }\n",
       "</style>\n",
       "<table border=\"1\" class=\"dataframe\">\n",
       "  <thead>\n",
       "    <tr style=\"text-align: right;\">\n",
       "      <th></th>\n",
       "      <th>V02322</th>\n",
       "      <th>V4105</th>\n",
       "      <th>V4621</th>\n",
       "      <th>V02426</th>\n",
       "      <th>UF</th>\n",
       "      <th>Regiões</th>\n",
       "      <th>Regiao</th>\n",
       "      <th>DomiciliarComBandaLarga</th>\n",
       "    </tr>\n",
       "  </thead>\n",
       "  <tbody>\n",
       "    <tr>\n",
       "      <th>0</th>\n",
       "      <td>Não</td>\n",
       "      <td>URBANA - Cidade ou vila, área urbanizada</td>\n",
       "      <td>800.0</td>\n",
       "      <td>Não</td>\n",
       "      <td>Rondônia</td>\n",
       "      <td>Brasil</td>\n",
       "      <td>Norte</td>\n",
       "      <td>Não</td>\n",
       "    </tr>\n",
       "    <tr>\n",
       "      <th>2</th>\n",
       "      <td>Sim</td>\n",
       "      <td>URBANA - Cidade ou vila, área urbanizada</td>\n",
       "      <td>1150.0</td>\n",
       "      <td>Sim</td>\n",
       "      <td>Rondônia</td>\n",
       "      <td>Brasil</td>\n",
       "      <td>Norte</td>\n",
       "      <td>Sim</td>\n",
       "    </tr>\n",
       "    <tr>\n",
       "      <th>3</th>\n",
       "      <td>Sim</td>\n",
       "      <td>URBANA - Cidade ou vila, área urbanizada</td>\n",
       "      <td>793.0</td>\n",
       "      <td>Sim</td>\n",
       "      <td>Rondônia</td>\n",
       "      <td>Brasil</td>\n",
       "      <td>Norte</td>\n",
       "      <td>Sim</td>\n",
       "    </tr>\n",
       "    <tr>\n",
       "      <th>4</th>\n",
       "      <td>Não</td>\n",
       "      <td>URBANA - Cidade ou vila, área urbanizada</td>\n",
       "      <td>2900.0</td>\n",
       "      <td>Não</td>\n",
       "      <td>Rondônia</td>\n",
       "      <td>Brasil</td>\n",
       "      <td>Norte</td>\n",
       "      <td>Não</td>\n",
       "    </tr>\n",
       "    <tr>\n",
       "      <th>5</th>\n",
       "      <td>Sim</td>\n",
       "      <td>URBANA - Cidade ou vila, área urbanizada</td>\n",
       "      <td>1990.0</td>\n",
       "      <td>Sim</td>\n",
       "      <td>Rondônia</td>\n",
       "      <td>Brasil</td>\n",
       "      <td>Norte</td>\n",
       "      <td>Sim</td>\n",
       "    </tr>\n",
       "  </tbody>\n",
       "</table>\n",
       "</div>"
      ],
      "text/plain": [
       "  V02322                                     V4105   V4621 V02426        UF  \\\n",
       "0    Não  URBANA - Cidade ou vila, área urbanizada   800.0    Não  Rondônia   \n",
       "2    Sim  URBANA - Cidade ou vila, área urbanizada  1150.0    Sim  Rondônia   \n",
       "3    Sim  URBANA - Cidade ou vila, área urbanizada   793.0    Sim  Rondônia   \n",
       "4    Não  URBANA - Cidade ou vila, área urbanizada  2900.0    Não  Rondônia   \n",
       "5    Sim  URBANA - Cidade ou vila, área urbanizada  1990.0    Sim  Rondônia   \n",
       "\n",
       "  Regiões Regiao DomiciliarComBandaLarga  \n",
       "0  Brasil  Norte                     Não  \n",
       "2  Brasil  Norte                     Sim  \n",
       "3  Brasil  Norte                     Sim  \n",
       "4  Brasil  Norte                     Não  \n",
       "5  Brasil  Norte                     Sim  "
      ]
     },
     "execution_count": 79,
     "metadata": {},
     "output_type": "execute_result"
    }
   ],
   "source": [
    "#dados_não_nulos = dados_não_nulos[dados_não_nulos.V4621!=999999999999]\n",
    "#criar uma nova coluna 'Tem sinal TV'\n",
    "dados_não_nulos.loc[(dados_não_nulos.V02322=='Sim') | (dados_não_nulos.V02426=='Sim'), 'DomiciliarComBandaLarga'] = 'Sim'\n",
    "dados_não_nulos.loc[(dados_não_nulos.V02322=='Não') & (dados_não_nulos.V02426=='Não'), 'DomiciliarComBandaLarga'] = 'Não'\n",
    "dados_não_nulos.loc[(dados_não_nulos.V02322=='Sim') & (dados_não_nulos.V02426=='Não'), 'DomiciliarComBandaLarga'] = 'Não'\n",
    "dados_não_nulos.loc[(dados_não_nulos.V02322=='Não') & (dados_não_nulos.V02426=='Sim'), 'DomiciliarComBandaLarga'] = 'Não'\n",
    "dados_não_nulos.head()"
   ]
  },
  {
   "cell_type": "code",
   "execution_count": 82,
   "metadata": {},
   "outputs": [
    {
     "data": {
      "text/html": [
       "<div>\n",
       "<style>\n",
       "    .dataframe thead tr:only-child th {\n",
       "        text-align: right;\n",
       "    }\n",
       "\n",
       "    .dataframe thead th {\n",
       "        text-align: left;\n",
       "    }\n",
       "\n",
       "    .dataframe tbody tr th {\n",
       "        vertical-align: top;\n",
       "    }\n",
       "</style>\n",
       "<table border=\"1\" class=\"dataframe\">\n",
       "  <thead>\n",
       "    <tr style=\"text-align: right;\">\n",
       "      <th>Região</th>\n",
       "      <th>Centroeste</th>\n",
       "      <th>Nordeste</th>\n",
       "      <th>Norte</th>\n",
       "      <th>Sudeste</th>\n",
       "      <th>Sul</th>\n",
       "      <th>All</th>\n",
       "    </tr>\n",
       "    <tr>\n",
       "      <th>Internet Banda Larga domiciliar</th>\n",
       "      <th></th>\n",
       "      <th></th>\n",
       "      <th></th>\n",
       "      <th></th>\n",
       "      <th></th>\n",
       "      <th></th>\n",
       "    </tr>\n",
       "  </thead>\n",
       "  <tbody>\n",
       "    <tr>\n",
       "      <th>Não</th>\n",
       "      <td>2.7</td>\n",
       "      <td>12.1</td>\n",
       "      <td>8.6</td>\n",
       "      <td>11.3</td>\n",
       "      <td>7.0</td>\n",
       "      <td>41.6</td>\n",
       "    </tr>\n",
       "    <tr>\n",
       "      <th>Sim</th>\n",
       "      <td>4.8</td>\n",
       "      <td>12.6</td>\n",
       "      <td>7.8</td>\n",
       "      <td>21.4</td>\n",
       "      <td>11.9</td>\n",
       "      <td>58.4</td>\n",
       "    </tr>\n",
       "    <tr>\n",
       "      <th>All</th>\n",
       "      <td>7.5</td>\n",
       "      <td>24.7</td>\n",
       "      <td>16.4</td>\n",
       "      <td>32.6</td>\n",
       "      <td>18.8</td>\n",
       "      <td>100.0</td>\n",
       "    </tr>\n",
       "  </tbody>\n",
       "</table>\n",
       "</div>"
      ],
      "text/plain": [
       "Região                           Centroeste  Nordeste  Norte  Sudeste   Sul  \\\n",
       "Internet Banda Larga domiciliar                                               \n",
       "Não                                     2.7      12.1    8.6     11.3   7.0   \n",
       "Sim                                     4.8      12.6    7.8     21.4  11.9   \n",
       "All                                     7.5      24.7   16.4     32.6  18.8   \n",
       "\n",
       "Região                             All  \n",
       "Internet Banda Larga domiciliar         \n",
       "Não                               41.6  \n",
       "Sim                               58.4  \n",
       "All                              100.0  "
      ]
     },
     "execution_count": 82,
     "metadata": {},
     "output_type": "execute_result"
    }
   ],
   "source": [
    "#Código Crosstab teste ,que relaciona Acesso a internet Banda Larga + Internet no Domicílio com Região\n",
    "\n",
    "BandaLargaDomiRegião=pd.crosstab( dados_não_nulos.DomiciliarComBandaLarga,dados_não_nulos.Regiao, margins=True, rownames=['Internet Banda Larga Domiciliar'], colnames=['Região'], normalize=True)*100\n",
    "BandaLargaDomiRegião=BandaLargaDomiRegião.round(decimals=1)\n",
    "BandaLargaDomiRegião\n",
    "\n"
   ]
  },
  {
   "cell_type": "code",
   "execution_count": 83,
   "metadata": {},
   "outputs": [
    {
     "data": {
      "text/plain": [
       "<matplotlib.text.Text at 0x1a1e9444470>"
      ]
     },
     "execution_count": 83,
     "metadata": {},
     "output_type": "execute_result"
    },
    {
     "data": {
      "image/png": "[encoded data removed]",
      "text/plain": [
       "<matplotlib.figure.Figure at 0x1a1e2b072e8>"
      ]
     },
     "metadata": {},
     "output_type": "display_data"
    }
   ],
   "source": [
    "plot = BandaLargaDomiRegião.plot(kind='bar')\n",
    "plt.ylabel('Freq.Relativa (em %)')"
   ]
  },
  {
   "cell_type": "code",
   "execution_count": null,
   "metadata": {
    "collapsed": true
   },
   "outputs": [],
   "source": []
  },
  {
   "cell_type": "code",
   "execution_count": null,
   "metadata": {
    "collapsed": true
   },
   "outputs": [],
   "source": []
  },
  {
   "cell_type": "code",
   "execution_count": null,
   "metadata": {
    "collapsed": true
   },
   "outputs": [],
   "source": []
  }
 ],
 "metadata": {
  "kernelspec": {
   "display_name": "Python 3",
   "language": "python",
   "name": "python3"
  },
  "language_info": {
   "codemirror_mode": {
    "name": "ipython",
    "version": 3
   },
   "file_extension": ".py",
   "mimetype": "text/x-python",
   "name": "python",
   "nbconvert_exporter": "python",
   "pygments_lexer": "ipython3",
   "version": "3.6.1"
  }
 },
 "nbformat": 4,
 "nbformat_minor": 2
}
