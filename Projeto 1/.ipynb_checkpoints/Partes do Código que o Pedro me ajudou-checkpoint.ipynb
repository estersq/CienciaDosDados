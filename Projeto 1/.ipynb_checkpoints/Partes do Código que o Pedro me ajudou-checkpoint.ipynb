{
 "cells": [
  {
   "cell_type": "code",
   "execution_count": null,
   "metadata": {
    "collapsed": true
   },
   "outputs": [],
   "source": [
    "At2015.Moardia_Rural_Urbana.cat.categories = ([\"URBANA - Cidade ou vila, área urbanizada\",\"URBANA - Cidade ou vila, área não urbanizada\",\\\n",
    "\"RURAL - Aglomerado rural, isolado, povoado\", \"RURAL - Zona rural exclusive aglomerado rural\"])\n",
    "######\n",
    ":\n",
    "ren2013 = At2013.Renda_per_capta_domiciliar\n",
    "ren2013.describe()\n",
    "######\n",
    " faixa = (0,937/4 ,937/2, 937, 937*2,2080)\n",
    "ren2015rel = pd.cut(ren2015, faixa, False)\n",
    "print('Frequências relativas:')\n",
    "ut1 = (ren2015rel.value_counts(sort=False, normalize=True)*100).round(decimals=1)\n",
    "print(ut1,'\\n')\n",
    "#########\n",
    "renda_Internet2015=pd.crosstab( ren2015rel, At2015.Acesso_Internet, margins=True, rownames=['Renda per capta domiciliar (em salários mínimos)'], colnames=['Acesso Internet'], normalize=True)*100\n",
    "renda_Internet2015=renda_Internet2015.round(decimals=1)\n",
    "renda_Internet2015 \n",
    "\n",
    "plot = renda_Internet2015.plot(kind='bar')\n",
    "plt.ylabel('Freq.Relativa (em %)')\n",
    "\n",
    "\n",
    "Moradia_Internet2015=pd.crosstab( At2015.Moardia_Rural_Urbana, At2015.Acesso_Internet, margins=True, rownames=['Moardia (Área Rural ou Urbana)'], colnames=['Acesso Internet'], normalize=True)*100\n",
    "Moradia_Internet2015=Moradia_Internet2015.round(decimals=1)\n",
    "Moradia_Internet2015\n",
    "######################################################################\n",
    "fig = plt.figure(figsize=(11, 5))\n",
    "plt.subplot(121)\n",
    "plot = ren2015.plot.hist(bins=faixa,title='Renda percapta domiciliar', figsize=(6, 6), normed=1, alpha=0.5)\n",
    "plt.ylabel('Densidade')\n",
    "plt.xlabel('renda (em reais)')\n",
    "\n",
    "plt.subplot(122)\n",
    "plot = ren2015.plot.hist(bins=faixa, title='Renda percapta domiciliar', weights=zeros_like(ren2015)+1./ren2015.size*100, figsize=(6, 6), color = ('g'), alpha=0.5)\n",
    "plt.ylabel('Frequência Relativa')\n",
    "plt.xlabel('renda (em reais)')\n",
    "\n",
    "\n",
    "Utilizando o conceito de amplitude interquartil, definimos que ualquer vaolor que não esteja no intervalo [Q1 - 1,5Q: Q3 + 1,5Q] sendo Q = Q3 - Q1, Q3 (Terceiro Quartil) e Q1 (Primeiro Quartil), ou seja [-800:2080] seria extremo.\n",
    "\n",
    "plt.tight_layout()\n",
    "plt.show()\n",
    "\n",
    "\n",
    "\n",
    "\n"
   ]
  },
  {
   "cell_type": "code",
   "execution_count": null,
   "metadata": {
    "collapsed": true
   },
   "outputs": [],
   "source": [
    "fig = plt.figure(figsize=(11, 5))\n",
    "plt.subplot(121)\n",
    "plot = ren2015.plot.hist(bins=faixa,title='Renda percapta domiciliar', figsize=(6, 6), normed=1, alpha=0.5)\n",
    "plt.ylabel('Densidade')\n",
    "plt.xlabel('renda (em reais)')\n",
    "\n",
    "plt.subplot(122)\n",
    "plot = ren2015.plot.hist(bins=faixa, title='Renda percapta domiciliar', weights=zeros_like(ren2015)+1./ren2015.size*100, figsize=(6, 6), color = ('g'), alpha=0.5)\n",
    "plt.ylabel('Frequência Relativa')\n",
    "plt.xlabel('renda (em reais)')\n"
   ]
  },
  {
   "cell_type": "code",
   "execution_count": null,
   "metadata": {
    "collapsed": true
   },
   "outputs": [],
   "source": [
    "Moradia_Internet2015=pd.crosstab( At2015.Moardia_Rural_Urbana, At2015.Acesso_Internet, margins=True, rownames=['Moardia (Área Rural ou Urbana)'], colnames=['Acesso Internet'], normalize=True)*100\n",
    "Moradia_Internet2015=Moradia_Internet2015.round(decimals=1)\n",
    "Moradia_Internet2015"
   ]
  },
  {
   "cell_type": "code",
   "execution_count": null,
   "metadata": {
    "collapsed": true
   },
   "outputs": [],
   "source": [
    "renda_Internet2015=pd.crosstab( ren2015rel, At2015.Acesso_Internet, margins=True, rownames=['Renda per capta domiciliar (em salários mínimos)'], colnames=['Acesso Internet'], normalize=True)*100\n",
    "renda_Internet2015=renda_Internet2015.round(decimals=1)\n",
    "renda_Internet2015 \n",
    "\n",
    "plot = renda_Internet2015.plot(kind='bar')\n",
    "plt.ylabel('Freq.Relativa (em %)')\n"
   ]
  },
  {
   "cell_type": "code",
   "execution_count": null,
   "metadata": {
    "collapsed": true
   },
   "outputs": [],
   "source": [
    " faixa = (0,937/4 ,937/2, 937, 937*2,2080)\n",
    "ren2015rel = pd.cut(ren2015, faixa, False)\n",
    "print('Frequências relativas:')\n",
    "ut1 = (ren2015rel.value_counts(sort=False, normalize=True)*100).round(decimals=1)\n",
    "print(ut1,'\\n')"
   ]
  },
  {
   "cell_type": "code",
   "execution_count": null,
   "metadata": {
    "collapsed": true
   },
   "outputs": [],
   "source": [
    "ren2013 = At2013.Renda_per_capta_domiciliar\n",
    "ren2013.describe()"
   ]
  }
 ],
 "metadata": {
  "kernelspec": {
   "display_name": "Python 3",
   "language": "python",
   "name": "python3"
  },
  "language_info": {
   "codemirror_mode": {
    "name": "ipython",
    "version": 3
   },
   "file_extension": ".py",
   "mimetype": "text/x-python",
   "name": "python",
   "nbconvert_exporter": "python",
   "pygments_lexer": "ipython3",
   "version": "3.6.1"
  }
 },
 "nbformat": 4,
 "nbformat_minor": 2
}
